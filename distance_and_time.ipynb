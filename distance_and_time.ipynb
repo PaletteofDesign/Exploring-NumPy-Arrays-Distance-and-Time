{
 "cells": [
  {
   "cell_type": "code",
   "execution_count": 1,
   "outputs": [],
   "source": [
    "# Import numpy\n",
    "import numpy as np"
   ],
   "metadata": {
    "collapsed": false,
    "pycharm": {
     "name": "#%%\n"
    }
   }
  },
  {
   "cell_type": "code",
   "execution_count": 2,
   "outputs": [],
   "source": [
    "# Creating a numpy array to house distance values\n",
    "distances = np.array([100,200,400,800,1500,3000,5000,10000])"
   ],
   "metadata": {
    "collapsed": false,
    "pycharm": {
     "name": "#%%\n"
    }
   }
  },
  {
   "cell_type": "code",
   "execution_count": 7,
   "outputs": [
    {
     "name": "stdout",
     "output_type": "stream",
     "text": [
      "The minimum distance is 100 and the maximum distance is 10000\n"
     ]
    }
   ],
   "source": [
    "# Displaying minimum and maximum distances\n",
    "print(f'The minimum distance is {distances.min()} and the maximum distance is {distances.max()}')"
   ],
   "metadata": {
    "collapsed": false,
    "pycharm": {
     "name": "#%%\n"
    }
   }
  },
  {
   "cell_type": "code",
   "execution_count": 8,
   "outputs": [
    {
     "name": "stdout",
     "output_type": "stream",
     "text": [
      "2625.0\n"
     ]
    }
   ],
   "source": [
    "# Displaying the mean distance\n",
    "print(distances.mean())"
   ],
   "metadata": {
    "collapsed": false,
    "pycharm": {
     "name": "#%%\n"
    }
   }
  },
  {
   "cell_type": "code",
   "execution_count": 9,
   "outputs": [
    {
     "name": "stdout",
     "output_type": "stream",
     "text": [
      "21000\n"
     ]
    }
   ],
   "source": [
    "print(distances.sum())"
   ],
   "metadata": {
    "collapsed": false,
    "pycharm": {
     "name": "#%%\n"
    }
   }
  },
  {
   "cell_type": "code",
   "execution_count": 10,
   "outputs": [
    {
     "name": "stdout",
     "output_type": "stream",
     "text": [
      "[  100   300   700  1500  3000  6000 11000 21000]\n"
     ]
    }
   ],
   "source": [
    "# Displaying the cumulative sum of the distances array\n",
    "print(distances.cumsum())"
   ],
   "metadata": {
    "collapsed": false,
    "pycharm": {
     "name": "#%%\n"
    }
   }
  },
  {
   "cell_type": "code",
   "execution_count": 11,
   "outputs": [
    {
     "name": "stdout",
     "output_type": "stream",
     "text": [
      "[  100   200   400   800  1500  3000  5000 10000]\n"
     ]
    }
   ],
   "source": [
    "# displaying the rounded values of the array\n",
    "print(distances.round())"
   ],
   "metadata": {
    "collapsed": false,
    "pycharm": {
     "name": "#%%\n"
    }
   }
  },
  {
   "cell_type": "code",
   "execution_count": 12,
   "outputs": [],
   "source": [
    "# Creating a numpy array with time values\n",
    "time = np.array([10.62,21.34,48.25,113.43,233.96,506.53,866.17,1757.45])"
   ],
   "metadata": {
    "collapsed": false,
    "pycharm": {
     "name": "#%%\n"
    }
   }
  },
  {
   "cell_type": "code",
   "execution_count": 13,
   "outputs": [
    {
     "name": "stdout",
     "output_type": "stream",
     "text": [
      "[9.41619586 9.37207123 8.29015544 7.0528079  6.41135237 5.92265019\n",
      " 5.77253888 5.69006231]\n"
     ]
    }
   ],
   "source": [
    "# Using the numpy arrays to calculate the speed in m/s for the olympic speed records\n",
    "speed = distances / time\n",
    "print(speed)"
   ],
   "metadata": {
    "collapsed": false,
    "pycharm": {
     "name": "#%%\n"
    }
   }
  },
  {
   "cell_type": "code",
   "execution_count": 15,
   "outputs": [
    {
     "name": "stdout",
     "output_type": "stream",
     "text": [
      "[0.062 0.124 0.248 0.496 0.93  1.86  3.1   6.2  ]\n",
      "\n",
      " [0.00295    0.00592778 0.01340278 0.03150833 0.06498889 0.14070278\n",
      " 0.24060278 0.48818056]\n"
     ]
    }
   ],
   "source": [
    "# Converting to miles per hour and displaying olympian speed\n",
    "meter_to_mile = 0.00062\n",
    "miles = distances * meter_to_mile\n",
    "print(miles)\n",
    "\n",
    "hours = time / 3600\n",
    "print(\"\\n\", hours)"
   ],
   "metadata": {
    "collapsed": false,
    "pycharm": {
     "name": "#%%\n"
    }
   }
  },
  {
   "cell_type": "code",
   "execution_count": 16,
   "outputs": [
    {
     "name": "stdout",
     "output_type": "stream",
     "text": [
      "[21.01694915 20.91846298 18.50362694 15.74186723 14.31013849 13.21935522\n",
      " 12.88430678 12.70021907]\n"
     ]
    }
   ],
   "source": [
    "# Display in mph\n",
    "mph = miles/hours\n",
    "print(mph)"
   ],
   "metadata": {
    "collapsed": false,
    "pycharm": {
     "name": "#%%\n"
    }
   }
  },
  {
   "cell_type": "code",
   "execution_count": null,
   "outputs": [],
   "source": [],
   "metadata": {
    "collapsed": false,
    "pycharm": {
     "name": "#%%\n"
    }
   }
  }
 ],
 "metadata": {
  "kernelspec": {
   "display_name": "Python 3",
   "language": "python",
   "name": "python3"
  },
  "language_info": {
   "codemirror_mode": {
    "name": "ipython",
    "version": 2
   },
   "file_extension": ".py",
   "mimetype": "text/x-python",
   "name": "python",
   "nbconvert_exporter": "python",
   "pygments_lexer": "ipython2",
   "version": "2.7.6"
  }
 },
 "nbformat": 4,
 "nbformat_minor": 0
}